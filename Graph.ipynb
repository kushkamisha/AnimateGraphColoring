{
 "cells": [
  {
   "cell_type": "code",
   "execution_count": 128,
   "metadata": {},
   "outputs": [
    {
     "name": "stderr",
     "output_type": "stream",
     "text": [
      "MovieWriter imagemagick unavailable.\n"
     ]
    },
    {
     "name": "stdout",
     "output_type": "stream",
     "text": [
      "[[0 0 1 1 2]\n",
      " [0 0 1 2 1]\n",
      " [0 0 1 1 2]\n",
      " [0 0 2 1 1]\n",
      " [0 0 1 1 2]\n",
      " [2 0 1 1 0]\n",
      " [1 0 1 1 0]]\n"
     ]
    },
    {
     "data": {
      "image/png": "[encoded data removed]",
      "text/plain": [
       "<Figure size 432x288 with 1 Axes>"
      ]
     },
     "metadata": {},
     "output_type": "display_data"
    }
   ],
   "source": [
    "import numpy as np\n",
    "import networkx as nx\n",
    "# matplotlib.use(\"Agg\")\n",
    "import matplotlib.pyplot as plt\n",
    "from matplotlib.animation import FuncAnimation\n",
    "\n",
    "# generate graph\n",
    "A = np.matrix([\n",
    "    [1,0,0,0,1],\n",
    "    [0,1,1,1,0],\n",
    "    [0,1,1,0,1],\n",
    "    [0,1,0,1,1],\n",
    "    [1,0,1,1,1]\n",
    "])\n",
    "G=nx.from_numpy_matrix(A)\n",
    "\n",
    "# G = nx.house_graph()\n",
    "# explicitly set positions\n",
    "pos = {0: (0, 1),\n",
    "       1: (3, 1),\n",
    "       2: (2, 2),\n",
    "       3: (2, 0),\n",
    "       4: (1, 1)}\n",
    "\n",
    "# generating input frames here, since my data is too big\n",
    "# its important that the frames go as input and is not generated\n",
    "# on the fly\n",
    "# frame = np.random.randint(0, 5, (size, size)) # random ndarray between 0 and 5, length and number of frames = number of nodes in the graph\n",
    "frame = np.array([\n",
    "    [0, 0, 1, 1, 2],\n",
    "    [0, 0, 1, 2, 1],\n",
    "    [0, 0, 1, 1, 2],\n",
    "    [0, 0, 2, 1, 1],\n",
    "    [0, 0, 1, 1, 2],\n",
    "    [2, 0, 1, 1, 0],\n",
    "    [1, 0, 1, 1, 0],\n",
    "])\n",
    "# number of nodes\n",
    "size = len(frame)\n",
    "print(frame)\n",
    "\n",
    "# draw the topology of the graph, what changes during animation\n",
    "# is just the color\n",
    "# pos = nx.spring_layout(G)\n",
    "nodes = nx.draw_networkx_nodes(G, pos, node_size=500,)\n",
    "edges = nx.draw_networkx_edges(G, pos)\n",
    "labels = nx.draw_networkx_labels(G, pos, font_color='w')\n",
    "plt.axis('off')\n",
    "\n",
    "# pass frames to funcanimation via update function\n",
    "# this is where I get stuck, since I cannot break\n",
    "# out of the loop, neither can I read every array of\n",
    "# the ndarray without looping over it explicitly\n",
    "def update(i):\n",
    "    # for i in range(len(frame)):\n",
    "    # instead of giving frame as input, if I randomly generate it, then it works\n",
    "    nc = frame[i] # np.random.randint(2, size=200)\n",
    "    nodes.set_array(nc)\n",
    "    return nodes,\n",
    "\n",
    "# output animation; its important I save it\n",
    "fig = plt.gcf()\n",
    "ani = FuncAnimation(fig, update, interval=50, frames=range(size), blit=True)\n",
    "ani.save('bee_coloring.gif', writer='imagemagick',  savefig_kwargs={'facecolor':'white'}, fps=0.5)"
   ]
  },
  {
   "cell_type": "code",
   "execution_count": 129,
   "metadata": {},
   "outputs": [
    {
     "name": "stderr",
     "output_type": "stream",
     "text": [
      "MovieWriter imagemagick unavailable.\n"
     ]
    },
    {
     "data": {
      "image/png": "[encoded data removed]",
      "text/plain": [
       "<Figure size 432x288 with 1 Axes>"
      ]
     },
     "metadata": {},
     "output_type": "display_data"
    }
   ],
   "source": [
    "import numpy as np\n",
    "import networkx as nx\n",
    "import matplotlib.pyplot as plt\n",
    "from matplotlib.animation import FuncAnimation\n",
    "\n",
    "# generate graph\n",
    "A = np.matrix([\n",
    "    [1,0,0,0,1],\n",
    "    [0,1,1,1,0],\n",
    "    [0,1,1,0,1],\n",
    "    [0,1,0,1,1],\n",
    "    [1,0,1,1,1]\n",
    "])\n",
    "G = nx.from_numpy_matrix(A)\n",
    "\n",
    "# explicitly set positions of nodes\n",
    "pos = {0: (0, 1),\n",
    "       1: (3, 1),\n",
    "       2: (2, 2),\n",
    "       3: (2, 0),\n",
    "       4: (1, 1)}\n",
    "\n",
    "\n",
    "# generating input frames\n",
    "frame = np.array([\n",
    "    [0, 0, 1, 1, 2],\n",
    "    [0, 0, 1, 2, 1],\n",
    "    [0, 0, 1, 1, 2],\n",
    "    [0, 0, 2, 1, 1],\n",
    "    [0, 0, 1, 1, 2],\n",
    "    [2, 0, 1, 1, 0],\n",
    "    [1, 0, 1, 1, 0],\n",
    "])\n",
    "\n",
    "# number of nodes\n",
    "size = len(frame)\n",
    "\n",
    "# draw the topology of the graph, what changes during animation\n",
    "# is just the color\n",
    "nodes = nx.draw_networkx_nodes(G, pos, node_size=500,)\n",
    "edges = nx.draw_networkx_edges(G, pos)\n",
    "labels = nx.draw_networkx_labels(G, pos, font_color='w')\n",
    "plt.axis('off')\n",
    "\n",
    "# pass frames to funcanimation via update function\n",
    "def update(i):\n",
    "    nc = frame[i]\n",
    "    nodes.set_array(nc)\n",
    "    return nodes,\n",
    "\n",
    "# save animation\n",
    "fig = plt.gcf()\n",
    "ani = FuncAnimation(fig, update, interval=50, frames=range(size), blit=True)\n",
    "ani.save('bee_coloring.gif', writer='imagemagick',  savefig_kwargs={'facecolor':'white'}, fps=0.5)\n"
   ]
  },
  {
   "cell_type": "code",
   "execution_count": null,
   "metadata": {},
   "outputs": [],
   "source": []
  }
 ],
 "metadata": {
  "kernelspec": {
   "display_name": "Python 3",
   "language": "python",
   "name": "python3"
  },
  "language_info": {
   "codemirror_mode": {
    "name": "ipython",
    "version": 3
   },
   "file_extension": ".py",
   "mimetype": "text/x-python",
   "name": "python",
   "nbconvert_exporter": "python",
   "pygments_lexer": "ipython3",
   "version": "3.6.5"
  }
 },
 "nbformat": 4,
 "nbformat_minor": 2
}
